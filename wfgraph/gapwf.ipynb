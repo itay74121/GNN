{
 "cells": [
  {
   "cell_type": "code",
   "execution_count": 1,
   "metadata": {},
   "outputs": [],
   "source": [
    "from scapy.all import *"
   ]
  },
  {
   "cell_type": "markdown",
   "metadata": {},
   "source": [
    "# THE PCAP"
   ]
  },
  {
   "cell_type": "code",
   "execution_count": 2,
   "metadata": {},
   "outputs": [
    {
     "data": {
      "text/plain": [
       "scapy.plist.PacketList"
      ]
     },
     "execution_count": 2,
     "metadata": {},
     "output_type": "execute_result"
    }
   ],
   "source": [
    "filename = \"pcapfile.pcap\"\n",
    "file  = rdpcap(filename)\n",
    "type(file)\n"
   ]
  },
  {
   "cell_type": "markdown",
   "metadata": {},
   "source": [
    "# Check1"
   ]
  },
  {
   "cell_type": "code",
   "execution_count": 3,
   "metadata": {},
   "outputs": [
    {
     "name": "stdout",
     "output_type": "stream",
     "text": [
      "###[ Ethernet ]### \n",
      "  dst       = 52:54:00:12:35:00\n",
      "  src       = 08:00:27:79:b2:2e\n",
      "  type      = ARP\n",
      "###[ ARP ]### \n",
      "     hwtype    = 0x1\n",
      "     ptype     = IPv4\n",
      "     hwlen     = 6\n",
      "     plen      = 4\n",
      "     op        = who-has\n",
      "     hwsrc     = 08:00:27:79:b2:2e\n",
      "     psrc      = 10.0.2.15\n",
      "     hwdst     = 00:00:00:00:00:00\n",
      "     pdst      = 10.0.2.1\n",
      "\n"
     ]
    },
    {
     "name": "stderr",
     "output_type": "stream",
     "text": [
      "WARNING: Calling str(pkt) on Python 3 makes no sense!\n"
     ]
    },
    {
     "name": "stdout",
     "output_type": "stream",
     "text": [
      "b\"RT\\x00\\x125\\x00\\x08\\x00'y\\xb2.\\x08\\x06\\x00\\x01\\x08\\x00\\x06\\x04\\x00\\x01\\x08\\x00'y\\xb2.\\n\\x00\\x02\\x0f\\x00\\x00\\x00\\x00\\x00\\x00\\n\\x00\\x02\\x01\"\n"
     ]
    }
   ],
   "source": [
    "# file[0].psrc\n",
    "# file[0].pdst\n",
    "file[0].type \n",
    "# file[0].dst\n",
    "# file[0].src\n",
    "# file[0].ptype\n",
    "file[0].show()\n",
    "pac = file[0]\n",
    "print(pac)\n",
    "# print(pac.proto)"
   ]
  },
  {
   "cell_type": "markdown",
   "metadata": {},
   "source": [
    "# sinun"
   ]
  },
  {
   "cell_type": "code",
   "execution_count": 4,
   "metadata": {},
   "outputs": [
    {
     "name": "stdout",
     "output_type": "stream",
     "text": [
      "###[ Ethernet ]### \n",
      "  dst       = 08:00:27:79:b2:2e\n",
      "  src       = 52:54:00:12:35:00\n",
      "  type      = IPv4\n",
      "###[ IP ]### \n",
      "     version   = 4\n",
      "     ihl       = 5\n",
      "     tos       = 0x0\n",
      "     len       = 40\n",
      "     id        = 51423\n",
      "     flags     = \n",
      "     frag      = 0\n",
      "     ttl       = 255\n",
      "     proto     = tcp\n",
      "     chksum    = 0x9b04\n",
      "     src       = 13.110.62.111\n",
      "     dst       = 10.0.2.15\n",
      "     \\options   \\\n",
      "###[ TCP ]### \n",
      "        sport     = https\n",
      "        dport     = 58632\n",
      "        seq       = 601820\n",
      "        ack       = 3296487992\n",
      "        dataofs   = 5\n",
      "        reserved  = 0\n",
      "        flags     = A\n",
      "        window    = 31345\n",
      "        chksum    = 0x9919\n",
      "        urgptr    = 0\n",
      "        options   = ''\n",
      "###[ Padding ]### \n",
      "           load      = '\\x00\\x00\\x00\\x00\\x00\\x00'\n",
      "\n"
     ]
    }
   ],
   "source": [
    "j = 0 \n",
    "e = True\n",
    "proto = PacketList()\n",
    "scapy.plist.PacketList\n",
    "if e == True:\n",
    "    for i in range(len(file)):\n",
    "        # if\n",
    "        # print(i)\n",
    "        # file[0].show()\n",
    "\n",
    "        if(file[i].type == 2048 and file[i].proto == 6 and e):\n",
    "            proto.append(file[i])\n",
    "            \n",
    "\n",
    "            j = i \n",
    "            #e = False\n",
    "            # file[i].show\n",
    "\n",
    "file[j].show()\n",
    "\n",
    "        "
   ]
  },
  {
   "cell_type": "markdown",
   "metadata": {},
   "source": [
    "# Check2"
   ]
  },
  {
   "cell_type": "code",
   "execution_count": 5,
   "metadata": {},
   "outputs": [
    {
     "name": "stdout",
     "output_type": "stream",
     "text": [
      "3077\n"
     ]
    },
    {
     "data": {
      "text/plain": [
       "Decimal('1641302030.621010')"
      ]
     },
     "execution_count": 5,
     "metadata": {},
     "output_type": "execute_result"
    }
   ],
   "source": [
    "# file[j].psrc\n",
    "# file[0].pdst\n",
    "# file[j].type\n",
    "# file[j].proto\n",
    "# file[j].dport\n",
    "# file[0].dst\n",
    "# file[0].src\n",
    "# file[0].ptype\n",
    "type(proto)\n",
    "# proto[0].show()\n",
    "print(len(proto))\n",
    "# file[j].show()\n",
    "# print(proto[0])\n",
    "\n",
    "# print(proto[0][IP].dst)\n",
    "proto[0].time\n",
    "\n"
   ]
  },
  {
   "cell_type": "markdown",
   "metadata": {},
   "source": []
  },
  {
   "cell_type": "code",
   "execution_count": 7,
   "metadata": {},
   "outputs": [
    {
     "name": "stdout",
     "output_type": "stream",
     "text": [
      "('10.0.2.15', '151.101.16.193', 53506, 443, 6)\n",
      "160\n"
     ]
    }
   ],
   "source": [
    "\n",
    "ing = 0\n",
    "f = set()\n",
    "ips = set()\n",
    "for i in proto: \n",
    "    packetI = i\n",
    "    sp = packetI.sport\n",
    "    dp = packetI.dport\n",
    "    prtcl = packetI.proto\n",
    "    sIp = packetI[IP].src\n",
    "    dIp = packetI[IP].dst\n",
    "    tupleI = (sIp,dIp,sp,dp,prtcl)\n",
    "    if ing == 0:\n",
    "        print(tupleI)\n",
    "        ing = ing + 1\n",
    "    f.add(tupleI)\n",
    "    # flows.append(flow)\n",
    "    # flow = []\n",
    "\n",
    "print(len(f))\n",
    "# f\n",
    "# print(f)\n",
    "# f\n",
    "\n",
    "\n",
    "\n",
    "\n",
    "\n",
    "\n",
    "\n",
    "    "
   ]
  },
  {
   "cell_type": "markdown",
   "metadata": {},
   "source": []
  },
  {
   "cell_type": "code",
   "execution_count": 8,
   "metadata": {},
   "outputs": [
    {
     "name": "stdout",
     "output_type": "stream",
     "text": [
      "160\n"
     ]
    }
   ],
   "source": [
    "flow = PacketList()\n",
    "flows = {}\n",
    "\n",
    "for i in f:\n",
    "    for j in proto:\n",
    "        fiveT = i\n",
    "        sIp = fiveT[0]\n",
    "        dIp = fiveT[1]\n",
    "        sp = fiveT[2]\n",
    "        dp = fiveT[3]\n",
    "        prtcl = fiveT[4]\n",
    "        if sIp == j[IP].src and dIp == j[IP].dst and sp == j.sport and dp == j.dport and prtcl == j.proto:\n",
    "            flow.append(j)\n",
    "    # flows.append(flow)\n",
    "    flows[fiveT] = flow\n",
    "    flow = PacketList()\n",
    "\n",
    "print(len(flows))\n",
    "\n",
    "\n",
    "\n",
    "\n",
    "        \n"
   ]
  },
  {
   "cell_type": "markdown",
   "metadata": {},
   "source": []
  },
  {
   "cell_type": "code",
   "execution_count": 28,
   "metadata": {},
   "outputs": [
    {
     "name": "stdout",
     "output_type": "stream",
     "text": [
      "160\n"
     ]
    }
   ],
   "source": [
    "print(len(flows.keys()))\n",
    "# for i in flows:\n",
    "#     flows[0]\n",
    "    # print(i.time)\n",
    "    #  i.show()\n",
    "\n",
    "# len(flows)\n"
   ]
  },
  {
   "cell_type": "markdown",
   "metadata": {},
   "source": []
  },
  {
   "cell_type": "code",
   "execution_count": 33,
   "metadata": {},
   "outputs": [
    {
     "name": "stdout",
     "output_type": "stream",
     "text": [
      "85\n"
     ]
    }
   ],
   "source": [
    "\n",
    "keys = []\n",
    "for i in flows.keys():\n",
    "    keys.append(i)\n",
    "\n",
    "threshold = 3\n",
    "dictEdge ={}\n",
    "for i in range(len(keys)-1):\n",
    "    setlistI = []\n",
    "    for j in flows.get(keys[i]):\n",
    "        setlistI.append(j) \n",
    "    for j in range(i+1,len(keys)):\n",
    "        setlistJ = []\n",
    "        for t in flows.get(keys[j]):\n",
    "            setlistJ.append(t)\n",
    "        time1 = setlistI[0].time\n",
    "        time2 = setlistJ[0].time\n",
    "        src1 = setlistI[0][IP].src\n",
    "        src2 = setlistJ[0][IP].src\n",
    "        if abs(time1 - time2) < threshold:\n",
    "            if src1 == src2:\n",
    "                dictEdge[keys[i]] = keys[j]\n",
    "                # dictEdge[keys[j]] = keys[i]\n",
    "\n",
    "print(len(dictEdge))\n",
    "# print(dictEdge)"
   ]
  },
  {
   "cell_type": "markdown",
   "metadata": {},
   "source": []
  },
  {
   "cell_type": "code",
   "execution_count": 39,
   "metadata": {},
   "outputs": [
    {
     "data": {
      "image/png": "[encoded data removed]",
      "text/plain": [
       "<Figure size 432x288 with 1 Axes>"
      ]
     },
     "metadata": {},
     "output_type": "display_data"
    }
   ],
   "source": [
    "import networkx as nx\n",
    "import matplotlib.pyplot as plt\n",
    "\n",
    "g = nx.DiGraph()\n",
    "g.add_nodes_from(keys)\n",
    "# print(keys)\n",
    "\n",
    "for i in dictEdge.keys():\n",
    "    g.add_edge(i ,dictEdge.get(i))\n",
    "\n",
    "nx.draw(g,with_labels=False)\n",
    "plt.draw()\n",
    "plt.show()\n",
    "\n"
   ]
  },
  {
   "cell_type": "markdown",
   "metadata": {},
   "source": []
  },
  {
   "cell_type": "code",
   "execution_count": 40,
   "metadata": {},
   "outputs": [],
   "source": [
    "# with open(\"graph.txt\",'w') as f:\n",
    "#     for chain in chains:\n",
    "#         for i in range(len(chain)-1):\n",
    "#             if len(chain) > 1:\n",
    "#                 f.write(str(chain[i][1]).replace(\" \",\"\")+\" \"+str(chain[i+1][1]).replace(\" \",\"\")+\" 1\\n\")\n",
    "#             else:\n",
    "#                 f.write(str(chain[i][1]).replace(\" \",\"\")+str(chain[i][1]).replace(\" \",\"\")+\" 1\\n\")\n",
    "\n",
    "with open(\"graph.txt\",'w') as f:\n",
    "    for i in dictEdge.keys():\n",
    "        if len(flows.get(i)) > 1:\n",
    "            f.write(str(i).replace(\" \",\"\")+\" \"+str(dictEdge.get(i)).replace(\" \",\"\")+\" 1\\n\")\n",
    "        else:\n",
    "            f.write(str(i).replace(\" \",\"\")+str(dictEdge.get(i)).replace(\" \",\"\")+\" 1\\n\")\n",
    "\n",
    "        \n",
    "    "
   ]
  }
 ],
 "metadata": {
  "interpreter": {
   "hash": "aea76f1be30e5e3b918b1f8b7dd217025488842ffbeb7a324758bac1eab1c225"
  },
  "kernelspec": {
   "display_name": "Python 3.9.8 64-bit",
   "language": "python",
   "name": "python3"
  },
  "language_info": {
   "codemirror_mode": {
    "name": "ipython",
    "version": 3
   },
   "file_extension": ".py",
   "mimetype": "text/x-python",
   "name": "python",
   "nbconvert_exporter": "python",
   "pygments_lexer": "ipython3",
   "version": "3.9.8"
  },
  "orig_nbformat": 4
 },
 "nbformat": 4,
 "nbformat_minor": 2
}
