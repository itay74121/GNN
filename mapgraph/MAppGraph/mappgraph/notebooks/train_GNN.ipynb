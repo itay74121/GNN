{
 "cells": [
  {
   "cell_type": "markdown",
   "metadata": {
    "id": "LKQ1mORvDvSx"
   },
   "source": [
    "T5_3"
   ]
  },
  {
   "cell_type": "markdown",
   "metadata": {
    "id": "0lcDoZ0o2Za3"
   },
   "source": [
    "## Import packages"
   ]
  },
  {
   "cell_type": "code",
   "execution_count": 8,
   "metadata": {
    "colab": {
     "base_uri": "https://localhost:8080/"
    },
    "id": "P6QAxxEXvYeF",
    "outputId": "e37c68b3-3113-4bce-afc5-433c3bc9fdbc"
   },
   "outputs": [
    {
     "name": "stdout",
     "output_type": "stream",
     "text": [
      "Wed May  4 20:52:29 2022       \n",
      "+-----------------------------------------------------------------------------+\n",
      "| NVIDIA-SMI 511.79       Driver Version: 511.79       CUDA Version: 11.6     |\n",
      "|-------------------------------+----------------------+----------------------+\n",
      "| GPU  Name            TCC/WDDM | Bus-Id        Disp.A | Volatile Uncorr. ECC |\n",
      "| Fan  Temp  Perf  Pwr:Usage/Cap|         Memory-Usage | GPU-Util  Compute M. |\n",
      "|                               |                      |               MIG M. |\n",
      "|===============================+======================+======================|\n",
      "|   0  NVIDIA GeForce ... WDDM  | 00000000:2B:00.0  On |                  N/A |\n",
      "|  0%   54C    P8    16W / 125W |   4934MiB /  6144MiB |      7%      Default |\n",
      "|                               |                      |                  N/A |\n",
      "+-------------------------------+----------------------+----------------------+\n",
      "                                                                               \n",
      "+-----------------------------------------------------------------------------+\n",
      "| Processes:                                                                  |\n",
      "|  GPU   GI   CI        PID   Type   Process name                  GPU Memory |\n",
      "|        ID   ID                                                   Usage      |\n",
      "|=============================================================================|\n",
      "|    0   N/A  N/A      1360    C+G                                   N/A      |\n",
      "|    0   N/A  N/A      1584    C+G   ...bbwe\\Microsoft.Photos.exe    N/A      |\n",
      "|    0   N/A  N/A      2164    C+G   ...y\\ShellExperienceHost.exe    N/A      |\n",
      "|    0   N/A  N/A      9496    C+G   C:\\Windows\\explorer.exe         N/A      |\n",
      "|    0   N/A  N/A      9532    C+G   ...wekyb3d8bbwe\\Video.UI.exe    N/A      |\n",
      "|    0   N/A  N/A      9560    C+G   ...cw5n1h2txyewy\\LockApp.exe    N/A      |\n",
      "|    0   N/A  N/A     10176    C+G   ...2txyewy\\TextInputHost.exe    N/A      |\n",
      "|    0   N/A  N/A     10236    C+G   ...e\\root\\Office16\\EXCEL.EXE    N/A      |\n",
      "|    0   N/A  N/A     10372    C+G   ...Roaming\\Zoom\\bin\\Zoom.exe    N/A      |\n",
      "|    0   N/A  N/A     11300    C+G   ...artMenuExperienceHost.exe    N/A      |\n",
      "|    0   N/A  N/A     11444    C+G   ...210.32\\msedgewebview2.exe    N/A      |\n",
      "|    0   N/A  N/A     11792    C+G   ...ekyb3d8bbwe\\YourPhone.exe    N/A      |\n",
      "|    0   N/A  N/A     11888    C+G   ...5n1h2txyewy\\SearchApp.exe    N/A      |\n",
      "|    0   N/A  N/A     12056    C+G   ...ograms\\Opera GX\\opera.exe    N/A      |\n",
      "|    0   N/A  N/A     12104      C   ...onda\\envs\\envi\\python.exe    N/A      |\n",
      "|    0   N/A  N/A     14832    C+G   ...perience\\NVIDIA Share.exe    N/A      |\n",
      "|    0   N/A  N/A     15448    C+G   ...onnect\\OpenVPNConnect.exe    N/A      |\n",
      "|    0   N/A  N/A     16376    C+G   ...8wekyb3d8bbwe\\Cortana.exe    N/A      |\n",
      "|    0   N/A  N/A     16956    C+G   ...5n1h2txyewy\\SearchApp.exe    N/A      |\n",
      "|    0   N/A  N/A     17400    C+G   ...icrosoft VS Code\\Code.exe    N/A      |\n",
      "|    0   N/A  N/A     19084    C+G   ...lPanel\\SystemSettings.exe    N/A      |\n",
      "|    0   N/A  N/A     23512      C   ...onda\\envs\\envi\\python.exe    N/A      |\n",
      "+-----------------------------------------------------------------------------+\n"
     ]
    }
   ],
   "source": [
    "!nvidia-smi"
   ]
  },
  {
   "cell_type": "code",
   "execution_count": 9,
   "metadata": {},
   "outputs": [
    {
     "data": {
      "text/plain": [
       "'3.7.13 (default, Mar 28 2022, 08:03:21) [MSC v.1916 64 bit (AMD64)]'"
      ]
     },
     "execution_count": 9,
     "metadata": {},
     "output_type": "execute_result"
    }
   ],
   "source": [
    "from sys import version\n",
    "version"
   ]
  },
  {
   "cell_type": "code",
   "execution_count": 10,
   "metadata": {
    "colab": {
     "base_uri": "https://localhost:8080/"
    },
    "id": "sG9WNKzW8a8x",
    "outputId": "1f693f85-37e0-42f6-f604-fa10e1b5334e"
   },
   "outputs": [
    {
     "name": "stdout",
     "output_type": "stream",
     "text": [
      "Note: you may need to restart the kernel to use updated packages.\n"
     ]
    }
   ],
   "source": [
    "# # install StellarGraph if running on Google Colab\n",
    "# import sys\n",
    "# if 'google.colab' in sys.modules:\n",
    "%pip install -q stellargraph[demos]==1.2.1"
   ]
  },
  {
   "cell_type": "code",
   "execution_count": 47,
   "metadata": {
    "id": "r1niN0z09sri"
   },
   "outputs": [],
   "source": [
    "# verify that we're using the correct version of StellarGraph for this notebook\n",
    "import stellargraph as sg\n",
    "\n",
    "# try:\n",
    "#     sg.utils.validate_notebook_version(\"1.2.1\")\n",
    "# except AttributeError:\n",
    "#     raise ValueError(\n",
    "#         f\"This notebook requires StellarGraph version 1.2.1, but a different version {sg.__version__} is installed.  Please see <https://github.com/stellargraph/stellargraph/issues/1172>.\"\n",
    "#     ) from None"
   ]
  },
  {
   "cell_type": "code",
   "execution_count": 46,
   "metadata": {
    "id": "AcQq7a-99v_n"
   },
   "outputs": [],
   "source": [
    "import pandas as pd\n",
    "pd.options.mode.chained_assignment = None  # default='warn'\n",
    "import os\n",
    "import math\n",
    "import matplotlib.pyplot as plt\n",
    "import numpy as np\n",
    "from stellargraph import StellarGraph\n",
    "import pandas as pd\n",
    "import numpy as np\n",
    "import stellargraph as sg\n",
    "from stellargraph.mapper import PaddedGraphGenerator\n",
    "from stellargraph.layer import DeepGraphCNN\n",
    "from stellargraph import StellarGraph\n",
    "from stellargraph import datasets\n",
    "from sklearn import model_selection\n",
    "from IPython.display import display, HTML\n",
    "from tensorflow.keras import Model\n",
    "from tensorflow.keras.optimizers import Adam\n",
    "from tensorflow.keras.layers import Dense, Conv1D, MaxPool1D, Dropout, Flatten,  BatchNormalization\n",
    "from tensorflow.keras.losses import binary_crossentropy, categorical_crossentropy\n",
    "import tensorflow as tf\n",
    "from tensorflow import keras\n",
    "from sklearn.metrics import classification_report,confusion_matrix,plot_confusion_matrix\n",
    "import matplotlib.pyplot as plt\n",
    "from sklearn.model_selection import train_test_split\n",
    "import warnings\n",
    "warnings.filterwarnings('ignore')"
   ]
  },
  {
   "cell_type": "code",
   "execution_count": 13,
   "metadata": {
    "id": "tQfYJXo0JUeN"
   },
   "outputs": [],
   "source": [
    "root_path = 'https://raw.githubusercontent.com/soeai/MAppGraph/gh-pages/data'\n"
   ]
  },
  {
   "cell_type": "markdown",
   "metadata": {
    "id": "V0Y8LA582yMR"
   },
   "source": [
    "## Config setting"
   ]
  },
  {
   "cell_type": "code",
   "execution_count": 48,
   "metadata": {
    "id": "2YHZAXTQJJvK"
   },
   "outputs": [],
   "source": [
    "N = 20\n",
    "t = 10\n",
    "k = 10  # the number of rows for the output tensor (k = 10, 20)\n",
    "T = 5\n",
    "overlap = 3 # note: overlap depends on T\n",
    "alllabels = [11102.0, 11202.0, 12101.0, 12201.0, 13101.0, 13102.0, 13103.0, 13201.0, 13202.0, 13302.0, 13403.0, 14101.0, 14102.0, 14202.0, 14302.0,\n",
    "             15102.0, 15202.0, 15302.0, 16101.0, 16102.0, 16103.0, 16201.0, 16202.0, 16302.0, 16403.0, 17101.0, 17201.0, 17403.0, 18101.0, 18102.0, \n",
    "             18103.0, 18201.0, 18202.0, 18302.0, 18403.0]\n",
    "appslabels = [1,2,3,4,5,6,7,8]\n",
    "apps = [\"d_hi_chrome\",'d_hi_safari','l_hi_chrome','l_hi_ff','w_hi_chrome','w_hi_ff','w_hi_ie']\n",
    "#['diijam', 'baomoi', 'fptplay', 'iQIYI', 'bigo', 'myradio', 'spotify', 'nhaccuatui', 'soundcloud', 'sachnoiapp', \n",
    "#         'phim247', 'popskid', 'truyenaudiosachnoiviet', 'vieon', 'voizfm', 'tunefm', 'wetv', 'zingmp3', 'truyenaudio', 'baohay24h',\n",
    "#         'freefire', 'among_us', 'azar', 'comico', 'nimotv', 'mangatoon', 'medoctruyen', 'nhacvang', 'noveltoon', 'radiofm',\n",
    "#         'vtvgo', 'tivi24h', 'tinder', 'tinmoi24h', 'tivi360', 'tiktok', 'linkedin', 'tiki', 'tinhte', 'lotus', 'tivi247',\n",
    "#         'tivi_truyentranh_webtoon', 'tuoitre_online', 'vietnamworks', 'wallstreet_journal', 'cnn_news', 'bbc_news', 'twitter', \n",
    "#         'weeboo', 'twitch', 'vnexpress', 'topcv', 'toc_chien', 'wesing', 'hago', 'google_meet', 'dubsmash', 'facebook','hahalolo', \n",
    "#         'zalo', 'hello_yo', 'dan_tri', 'zoom', 'wikipedia', 'instagram', 'jobway', 'kaka', 'pinterest', 'quora', 'lazada', 'chess', \n",
    "#         'cake', 'mobile_legend', 'co_tuong_online', 'ted', 'telegram', 'starmarker', 'skype', 'soha', 'tango', 'thanhnien', 'snapchat', \n",
    "#         'tien_len', 'animal_restaurant', 'bida', 'cho_tot', 'messenger', 'netflix', 'nonolive', 'may', 'podcast_player', 'pubg', \n",
    "#         'partying', 'kenh14', 'lienquan_mobile', 'likee_lite', 'reddit', 'sendo', 'shopee', 'the_guardian', 'ola_party']\n",
    "\n",
    "features = ['complete_max', 'complete_min', 'complete_mean', 'complete_mad', 'complete_std', 'complete_var', 'complete_skew',\n",
    "       'complete_kurt', 'complete_pkt_num', 'complete_10per', 'complete_20per', 'complete_30per', 'complete_40per', 'complete_50per', \n",
    "        'complete_60per', 'complete_70per', 'complete_80per', 'complete_90per', 'out_max', 'out_min', 'out_mean', 'out_mad', 'out_std',\n",
    "        'out_var', 'out_skew', 'out_kurt', 'out_pkt_num', 'out_10per', 'out_20per', 'out_30per', 'out_40per', 'out_50per', 'out_60per',\n",
    "        'out_70per', 'out_80per', 'out_90per', 'in_max', 'in_min', 'in_mean', 'in_mad', 'in_std', 'in_var', 'in_skew', 'in_kurt', \n",
    "        'in_pkt_num', 'in_10per', 'in_20per', 'in_30per', 'in_40per', 'in_50per', 'in_60per', 'in_70per', 'in_80per', 'in_90per', \n",
    "        'protocol', 'flows_num', 'flow_length_mean', 'flow_pkt_num_mean', 'flow_duration_mean', 'ip1', 'ip2', 'ip3', 'ip4'\n",
    "       ]"
   ]
  },
  {
   "cell_type": "code",
   "execution_count": 49,
   "metadata": {
    "id": "JCENiV3-gyRf"
   },
   "outputs": [],
   "source": [
    "train_graphs_folder = r'E:\\documents\\Gnn\\mapgraph\\MAppGraph\\mappgraph\\notebooks\\mydata'\n",
    "#test_graphs_folder = 'E:/documents/MAppGraph/mappgraph/data/5_3/test_graphs/N20/t10'"
   ]
  },
  {
   "cell_type": "markdown",
   "metadata": {
    "id": "JjW7cSVJ94-S"
   },
   "source": [
    "## Loading graphs for training and testing"
   ]
  },
  {
   "cell_type": "code",
   "execution_count": 57,
   "metadata": {
    "id": "7glSmi_xsjgK"
   },
   "outputs": [],
   "source": [
    "'''\n",
    "Load graphs for one app\n",
    "Input: app and folder that contains graphs of the app\n",
    "Output: List of graphs (StellarGraph objects) and List of labels\n",
    "'''\n",
    "def graphs_one_app(app, graphs_folder):\n",
    "  graphs = []\n",
    "\n",
    "  app_graph_folder = os.path.join(graphs_folder, app)\n",
    "  features_path = os.path.join(app_graph_folder, 'features.csv')\n",
    "  weights_path = os.path.join(app_graph_folder, 'weights.csv')\n",
    "  labels_path = os.path.join(app_graph_folder, 'labels.csv')\n",
    "  features_df = pd.read_csv(features_path, index_col=0)\n",
    "  weights_df = pd.read_csv(weights_path, index_col=0)\n",
    "  labels_df = pd.read_csv(labels_path,index_col=0)\n",
    "  labels = []\n",
    "  graph_num = features_df['graph_id'].iloc[-1]\n",
    "  # loop over all graphs of the app\n",
    "  for i in range(1, graph_num+1):\n",
    "    feature_df = features_df[features_df['graph_id'] == i]\n",
    "    feature_df = feature_df[['IP_port'] + features + ['graph_id']]\n",
    "    feature_df = feature_df.set_index('IP_port')\n",
    "    weight_df = weights_df[weights_df['id'] == i].reset_index(drop=True)\n",
    "    # drop graph_id column\n",
    "    feature_df = feature_df.drop(['graph_id'], axis=1)\n",
    "    weight_df = weight_df.drop(['id'], axis=1)\n",
    "  \n",
    "    if weight_df.shape[0] > 0:\n",
    "      labels.append(int(str(labels_df[labels_df['id'] == i].iloc[0]['label'])[4])) # here to change label\n",
    "      graph = StellarGraph(feature_df, weight_df,is_directed=True)\n",
    "      graphs.append(graph)\n",
    "  print(len(labels),len(graphs))\n",
    "  return graphs, labels"
   ]
  },
  {
   "cell_type": "code",
   "execution_count": 51,
   "metadata": {
    "id": "1kny4ma265qf"
   },
   "outputs": [],
   "source": [
    "'''\n",
    "Load all graphs\n",
    "Input: folder that contains graphs\n",
    "Output: List of graphs (StellarGraph objects), List of graph_labels (dummy values) and List of labels (names of app)\n",
    "'''\n",
    "def generate_graphs(graphs_folder):\n",
    "  # build a list of graphs and labels: note that only apply for more than 2 classes\n",
    "  li = []\n",
    "  labels = []\n",
    "  idx = 0\n",
    "\n",
    "  for app in apps:\n",
    "    idx += 1\n",
    "    print('Loading {} ... {}/{}'.format(app, idx, len(apps)))\n",
    "    \n",
    "    one_app_graphs, one_app_labels = graphs_one_app(app, graphs_folder)\n",
    "    li.extend(one_app_graphs)\n",
    "    labels.extend(one_app_labels)\n",
    "    \n",
    "\n",
    "  graph_labels = pd.get_dummies(labels)\n",
    "  graphs = li\n",
    "\n",
    "  print('...............................................................')\n",
    "\n",
    "  return graphs, graph_labels, labels"
   ]
  },
  {
   "cell_type": "markdown",
   "metadata": {
    "id": "p667q9A7r44A"
   },
   "source": [
    "Load graphs from csv files\n",
    "\n"
   ]
  },
  {
   "cell_type": "code",
   "execution_count": 58,
   "metadata": {
    "colab": {
     "base_uri": "https://localhost:8080/"
    },
    "id": "mGabFHxmsAX9",
    "outputId": "980bacdd-a306-494e-88c8-1ca8c8d95695"
   },
   "outputs": [
    {
     "name": "stdout",
     "output_type": "stream",
     "text": [
      "Loading d_hi_chrome ... 1/7\n",
      "11 11\n",
      "Loading d_hi_safari ... 2/7\n",
      "439 439\n",
      "Loading l_hi_chrome ... 3/7\n",
      "51 51\n",
      "Loading l_hi_ff ... 4/7\n",
      "49 49\n",
      "Loading w_hi_chrome ... 5/7\n",
      "189 189\n",
      "Loading w_hi_ff ... 6/7\n",
      "53 53\n",
      "Loading w_hi_ie ... 7/7\n",
      "38 38\n",
      "...............................................................\n",
      "{1, 2, 3}\n"
     ]
    }
   ],
   "source": [
    "\n",
    "graphs, labels, _ = generate_graphs(train_graphs_folder)\n",
    "labels = labels.drop([825],axis=0)\n",
    "graphs.pop(825)\n",
    "print(set(list(labels)))\n",
    "\n",
    "train_graphs , test_graphs , train_graph_labels , test_graph_labels = train_test_split(graphs,labels,stratify=labels,test_size=0.2)\n",
    "\n",
    "# train_graphs, train_graph_labels, _ = generate_graphs(train_graphs_folder)\n",
    "# test_graphs, test_graph_labels, _ = generate_graphs(test_graphs_folder)\n",
    "train_size = len(train_graphs)\n",
    "\n",
    "graph_labels = labels\n",
    "classes = labels.columns"
   ]
  },
  {
   "cell_type": "code",
   "execution_count": 20,
   "metadata": {
    "id": "iyDhfLE9MIpU"
   },
   "outputs": [],
   "source": [
    "generator = PaddedGraphGenerator(graphs=graphs)"
   ]
  },
  {
   "cell_type": "markdown",
   "metadata": {
    "id": "fVXBLvOISbXz"
   },
   "source": [
    "## Build GNN"
   ]
  },
  {
   "cell_type": "code",
   "execution_count": 21,
   "metadata": {
    "colab": {
     "base_uri": "https://localhost:8080/"
    },
    "id": "CiKbAm3kMjay",
    "outputId": "3e4a5acb-d8bd-46ad-dfdc-9bb54e509309"
   },
   "outputs": [
    {
     "name": "stdout",
     "output_type": "stream",
     "text": [
      "WARNING:tensorflow:From C:\\Users\\Itay\\.conda\\envs\\envi\\lib\\site-packages\\tensorflow\\python\\util\\deprecation.py:616: calling map_fn_v2 (from tensorflow.python.ops.map_fn) with dtype is deprecated and will be removed in a future version.\n",
      "Instructions for updating:\n",
      "Use fn_output_signature instead\n"
     ]
    }
   ],
   "source": [
    "layer_sizes = [1024, 1024, 1024, 512]\n",
    "\n",
    "dgcnn_model = DeepGraphCNN(\n",
    "    layer_sizes=layer_sizes,\n",
    "    activations=[\"tanh\", \"tanh\", \"tanh\", \"tanh\"],\n",
    "    k=k,\n",
    "    bias=False,\n",
    "    generator=generator,\n",
    ")\n",
    "x_inp, x_out = dgcnn_model.in_out_tensors()\n",
    "\n",
    "#------------------------------------------------------------------------------\n",
    "x_out = Conv1D(filters=256, kernel_size=sum(layer_sizes), strides=sum(layer_sizes))(x_out)\n",
    "x_out = MaxPool1D(pool_size=2)(x_out)\n",
    "\n",
    "x_out = Conv1D(filters=512, kernel_size=5, strides=1)(x_out)\n",
    "\n",
    "x_out = Flatten()(x_out)\n",
    "\n",
    "x_out = Dense(units=1024, activation=\"relu\")(x_out)\n",
    "x_out = Dropout(rate=0.25)(x_out)\n",
    "\n",
    "predictions = Dense(units=len(classes), activation=\"softmax\")(x_out)\n",
    "\n",
    "#------------------------------------------------------------------------------\n",
    "\n",
    "model = Model(inputs=x_inp, outputs=predictions)\n",
    "\n",
    "# using exponentialDecay to decrease the learning rate after 10 epochs\n",
    "# lr =  initial_lr * decay_rate ^ (step / decay_steps)\n",
    "batch_size = 256\n",
    "decay_epoch = 20\n",
    "\n",
    "lr_schedule = keras.optimizers.schedules.ExponentialDecay(\n",
    "    initial_learning_rate=0.0001,\n",
    "    decay_steps=(train_size//batch_size)*decay_epoch,\n",
    "    decay_rate=0.9)\n",
    "optimizer = keras.optimizers.Adam(learning_rate=lr_schedule)\n",
    "\n",
    "model.compile(\n",
    "    optimizer=optimizer, loss=categorical_crossentropy, metrics=[\"acc\"],\n",
    ")"
   ]
  },
  {
   "cell_type": "code",
   "execution_count": 22,
   "metadata": {
    "colab": {
     "base_uri": "https://localhost:8080/"
    },
    "id": "u7DG1_5EWa6r",
    "outputId": "1e31547d-7e85-4c38-c8de-c04b3e8e284d"
   },
   "outputs": [
    {
     "name": "stdout",
     "output_type": "stream",
     "text": [
      "Model: \"model\"\n",
      "__________________________________________________________________________________________________\n",
      " Layer (type)                   Output Shape         Param #     Connected to                     \n",
      "==================================================================================================\n",
      " input_1 (InputLayer)           [(None, None, 63)]   0           []                               \n",
      "                                                                                                  \n",
      " dropout (Dropout)              (None, None, 63)     0           ['input_1[0][0]']                \n",
      "                                                                                                  \n",
      " input_3 (InputLayer)           [(None, None, None)  0           []                               \n",
      "                                ]                                                                 \n",
      "                                                                                                  \n",
      " graph_convolution (GraphConvol  (None, None, 1024)  64512       ['dropout[0][0]',                \n",
      " ution)                                                           'input_3[0][0]']                \n",
      "                                                                                                  \n",
      " dropout_1 (Dropout)            (None, None, 1024)   0           ['graph_convolution[0][0]']      \n",
      "                                                                                                  \n",
      " graph_convolution_1 (GraphConv  (None, None, 1024)  1048576     ['dropout_1[0][0]',              \n",
      " olution)                                                         'input_3[0][0]']                \n",
      "                                                                                                  \n",
      " dropout_2 (Dropout)            (None, None, 1024)   0           ['graph_convolution_1[0][0]']    \n",
      "                                                                                                  \n",
      " graph_convolution_2 (GraphConv  (None, None, 1024)  1048576     ['dropout_2[0][0]',              \n",
      " olution)                                                         'input_3[0][0]']                \n",
      "                                                                                                  \n",
      " dropout_3 (Dropout)            (None, None, 1024)   0           ['graph_convolution_2[0][0]']    \n",
      "                                                                                                  \n",
      " graph_convolution_3 (GraphConv  (None, None, 512)   524288      ['dropout_3[0][0]',              \n",
      " olution)                                                         'input_3[0][0]']                \n",
      "                                                                                                  \n",
      " tf.concat (TFOpLambda)         (None, None, 3584)   0           ['graph_convolution[0][0]',      \n",
      "                                                                  'graph_convolution_1[0][0]',    \n",
      "                                                                  'graph_convolution_2[0][0]',    \n",
      "                                                                  'graph_convolution_3[0][0]']    \n",
      "                                                                                                  \n",
      " input_2 (InputLayer)           [(None, None)]       0           []                               \n",
      "                                                                                                  \n",
      " sort_pooling (SortPooling)     (None, 35840, 1)     0           ['tf.concat[0][0]',              \n",
      "                                                                  'input_2[0][0]']                \n",
      "                                                                                                  \n",
      " conv1d (Conv1D)                (None, 10, 256)      917760      ['sort_pooling[0][0]']           \n",
      "                                                                                                  \n",
      " max_pooling1d (MaxPooling1D)   (None, 5, 256)       0           ['conv1d[0][0]']                 \n",
      "                                                                                                  \n",
      " conv1d_1 (Conv1D)              (None, 1, 512)       655872      ['max_pooling1d[0][0]']          \n",
      "                                                                                                  \n",
      " flatten (Flatten)              (None, 512)          0           ['conv1d_1[0][0]']               \n",
      "                                                                                                  \n",
      " dense (Dense)                  (None, 1024)         525312      ['flatten[0][0]']                \n",
      "                                                                                                  \n",
      " dropout_4 (Dropout)            (None, 1024)         0           ['dense[0][0]']                  \n",
      "                                                                                                  \n",
      " dense_1 (Dense)                (None, 29)           29725       ['dropout_4[0][0]']              \n",
      "                                                                                                  \n",
      "==================================================================================================\n",
      "Total params: 4,814,621\n",
      "Trainable params: 4,814,621\n",
      "Non-trainable params: 0\n",
      "__________________________________________________________________________________________________\n"
     ]
    }
   ],
   "source": [
    "model.summary()"
   ]
  },
  {
   "cell_type": "code",
   "execution_count": 23,
   "metadata": {
    "id": "L1Ij6mb6MnDR"
   },
   "outputs": [],
   "source": [
    "gen = PaddedGraphGenerator(graphs=graphs)\n",
    "\n",
    "train_gen = gen.flow(\n",
    "    list(train_graph_labels.index - 1),\n",
    "    targets=train_graph_labels.values,\n",
    "    batch_size=256,\n",
    "    symmetric_normalization=False,\n",
    ")\n",
    "\n",
    "test_gen = gen.flow(\n",
    "    list(test_graph_labels.index - 1),\n",
    "    targets=test_graph_labels.values,\n",
    "    batch_size=256,\n",
    "    symmetric_normalization=False,\n",
    ")"
   ]
  },
  {
   "cell_type": "markdown",
   "metadata": {
    "id": "0epzLQdnBigR"
   },
   "source": [
    "## Training"
   ]
  },
  {
   "cell_type": "code",
   "execution_count": 24,
   "metadata": {
    "colab": {
     "base_uri": "https://localhost:8080/"
    },
    "id": "yWLELgWLMyTz",
    "outputId": "e9033bad-08e2-4694-d05d-46f0bdf74fce"
   },
   "outputs": [
    {
     "ename": "KeyboardInterrupt",
     "evalue": "",
     "output_type": "error",
     "traceback": [
      "\u001b[1;31m---------------------------------------------------------------------------\u001b[0m",
      "\u001b[1;31mKeyboardInterrupt\u001b[0m                         Traceback (most recent call last)",
      "\u001b[1;32m~\\AppData\\Local\\Temp\\ipykernel_23512\\3040581143.py\u001b[0m in \u001b[0;36m<module>\u001b[1;34m\u001b[0m\n\u001b[0;32m      8\u001b[0m \u001b[0mepochs\u001b[0m \u001b[1;33m=\u001b[0m \u001b[1;36m150\u001b[0m\u001b[1;33m\u001b[0m\u001b[1;33m\u001b[0m\u001b[0m\n\u001b[0;32m      9\u001b[0m history = model.fit(\n\u001b[1;32m---> 10\u001b[1;33m     \u001b[0mtrain_gen\u001b[0m\u001b[1;33m,\u001b[0m \u001b[0mcallbacks\u001b[0m\u001b[1;33m=\u001b[0m\u001b[1;33m[\u001b[0m\u001b[0msaver\u001b[0m\u001b[1;33m]\u001b[0m\u001b[1;33m,\u001b[0m \u001b[0mepochs\u001b[0m\u001b[1;33m=\u001b[0m\u001b[0mepochs\u001b[0m\u001b[1;33m,\u001b[0m \u001b[0mverbose\u001b[0m\u001b[1;33m=\u001b[0m\u001b[1;36m1\u001b[0m\u001b[1;33m,\u001b[0m \u001b[0mvalidation_data\u001b[0m\u001b[1;33m=\u001b[0m\u001b[0mtest_gen\u001b[0m\u001b[1;33m,\u001b[0m \u001b[0mshuffle\u001b[0m\u001b[1;33m=\u001b[0m\u001b[1;32mTrue\u001b[0m\u001b[1;33m,\u001b[0m\u001b[1;33m\u001b[0m\u001b[1;33m\u001b[0m\u001b[0m\n\u001b[0m\u001b[0;32m     11\u001b[0m )\n",
      "\u001b[1;32m~\\.conda\\envs\\envi\\lib\\site-packages\\keras\\utils\\traceback_utils.py\u001b[0m in \u001b[0;36merror_handler\u001b[1;34m(*args, **kwargs)\u001b[0m\n\u001b[0;32m     62\u001b[0m     \u001b[0mfiltered_tb\u001b[0m \u001b[1;33m=\u001b[0m \u001b[1;32mNone\u001b[0m\u001b[1;33m\u001b[0m\u001b[1;33m\u001b[0m\u001b[0m\n\u001b[0;32m     63\u001b[0m     \u001b[1;32mtry\u001b[0m\u001b[1;33m:\u001b[0m\u001b[1;33m\u001b[0m\u001b[1;33m\u001b[0m\u001b[0m\n\u001b[1;32m---> 64\u001b[1;33m       \u001b[1;32mreturn\u001b[0m \u001b[0mfn\u001b[0m\u001b[1;33m(\u001b[0m\u001b[1;33m*\u001b[0m\u001b[0margs\u001b[0m\u001b[1;33m,\u001b[0m \u001b[1;33m**\u001b[0m\u001b[0mkwargs\u001b[0m\u001b[1;33m)\u001b[0m\u001b[1;33m\u001b[0m\u001b[1;33m\u001b[0m\u001b[0m\n\u001b[0m\u001b[0;32m     65\u001b[0m     \u001b[1;32mexcept\u001b[0m \u001b[0mException\u001b[0m \u001b[1;32mas\u001b[0m \u001b[0me\u001b[0m\u001b[1;33m:\u001b[0m  \u001b[1;31m# pylint: disable=broad-except\u001b[0m\u001b[1;33m\u001b[0m\u001b[1;33m\u001b[0m\u001b[0m\n\u001b[0;32m     66\u001b[0m       \u001b[0mfiltered_tb\u001b[0m \u001b[1;33m=\u001b[0m \u001b[0m_process_traceback_frames\u001b[0m\u001b[1;33m(\u001b[0m\u001b[0me\u001b[0m\u001b[1;33m.\u001b[0m\u001b[0m__traceback__\u001b[0m\u001b[1;33m)\u001b[0m\u001b[1;33m\u001b[0m\u001b[1;33m\u001b[0m\u001b[0m\n",
      "\u001b[1;32m~\\.conda\\envs\\envi\\lib\\site-packages\\keras\\engine\\training.py\u001b[0m in \u001b[0;36mfit\u001b[1;34m(self, x, y, batch_size, epochs, verbose, callbacks, validation_split, validation_data, shuffle, class_weight, sample_weight, initial_epoch, steps_per_epoch, validation_steps, validation_batch_size, validation_freq, max_queue_size, workers, use_multiprocessing)\u001b[0m\n\u001b[0;32m   1370\u001b[0m           self._maybe_load_initial_epoch_from_ckpt(initial_epoch))\n\u001b[0;32m   1371\u001b[0m       \u001b[0mlogs\u001b[0m \u001b[1;33m=\u001b[0m \u001b[1;32mNone\u001b[0m\u001b[1;33m\u001b[0m\u001b[1;33m\u001b[0m\u001b[0m\n\u001b[1;32m-> 1372\u001b[1;33m       \u001b[1;32mfor\u001b[0m \u001b[0mepoch\u001b[0m\u001b[1;33m,\u001b[0m \u001b[0miterator\u001b[0m \u001b[1;32min\u001b[0m \u001b[0mdata_handler\u001b[0m\u001b[1;33m.\u001b[0m\u001b[0menumerate_epochs\u001b[0m\u001b[1;33m(\u001b[0m\u001b[1;33m)\u001b[0m\u001b[1;33m:\u001b[0m\u001b[1;33m\u001b[0m\u001b[1;33m\u001b[0m\u001b[0m\n\u001b[0m\u001b[0;32m   1373\u001b[0m         \u001b[0mself\u001b[0m\u001b[1;33m.\u001b[0m\u001b[0mreset_metrics\u001b[0m\u001b[1;33m(\u001b[0m\u001b[1;33m)\u001b[0m\u001b[1;33m\u001b[0m\u001b[1;33m\u001b[0m\u001b[0m\n\u001b[0;32m   1374\u001b[0m         \u001b[0mcallbacks\u001b[0m\u001b[1;33m.\u001b[0m\u001b[0mon_epoch_begin\u001b[0m\u001b[1;33m(\u001b[0m\u001b[0mepoch\u001b[0m\u001b[1;33m)\u001b[0m\u001b[1;33m\u001b[0m\u001b[1;33m\u001b[0m\u001b[0m\n",
      "\u001b[1;32m~\\.conda\\envs\\envi\\lib\\site-packages\\keras\\engine\\data_adapter.py\u001b[0m in \u001b[0;36menumerate_epochs\u001b[1;34m(self)\u001b[0m\n\u001b[0;32m   1189\u001b[0m     \u001b[1;34m\"\"\"Yields `(epoch, tf.data.Iterator)`.\"\"\"\u001b[0m\u001b[1;33m\u001b[0m\u001b[1;33m\u001b[0m\u001b[0m\n\u001b[0;32m   1190\u001b[0m     \u001b[1;32mwith\u001b[0m \u001b[0mself\u001b[0m\u001b[1;33m.\u001b[0m\u001b[0m_truncate_execution_to_epoch\u001b[0m\u001b[1;33m(\u001b[0m\u001b[1;33m)\u001b[0m\u001b[1;33m:\u001b[0m\u001b[1;33m\u001b[0m\u001b[1;33m\u001b[0m\u001b[0m\n\u001b[1;32m-> 1191\u001b[1;33m       \u001b[0mdata_iterator\u001b[0m \u001b[1;33m=\u001b[0m \u001b[0miter\u001b[0m\u001b[1;33m(\u001b[0m\u001b[0mself\u001b[0m\u001b[1;33m.\u001b[0m\u001b[0m_dataset\u001b[0m\u001b[1;33m)\u001b[0m\u001b[1;33m\u001b[0m\u001b[1;33m\u001b[0m\u001b[0m\n\u001b[0m\u001b[0;32m   1192\u001b[0m       \u001b[1;32mfor\u001b[0m \u001b[0mepoch\u001b[0m \u001b[1;32min\u001b[0m \u001b[0mrange\u001b[0m\u001b[1;33m(\u001b[0m\u001b[0mself\u001b[0m\u001b[1;33m.\u001b[0m\u001b[0m_initial_epoch\u001b[0m\u001b[1;33m,\u001b[0m \u001b[0mself\u001b[0m\u001b[1;33m.\u001b[0m\u001b[0m_epochs\u001b[0m\u001b[1;33m)\u001b[0m\u001b[1;33m:\u001b[0m\u001b[1;33m\u001b[0m\u001b[1;33m\u001b[0m\u001b[0m\n\u001b[0;32m   1193\u001b[0m         \u001b[1;32mif\u001b[0m \u001b[0mself\u001b[0m\u001b[1;33m.\u001b[0m\u001b[0m_insufficient_data\u001b[0m\u001b[1;33m:\u001b[0m  \u001b[1;31m# Set by `catch_stop_iteration`.\u001b[0m\u001b[1;33m\u001b[0m\u001b[1;33m\u001b[0m\u001b[0m\n",
      "\u001b[1;32m~\\.conda\\envs\\envi\\lib\\site-packages\\tensorflow\\python\\data\\ops\\dataset_ops.py\u001b[0m in \u001b[0;36m__iter__\u001b[1;34m(self)\u001b[0m\n\u001b[0;32m    484\u001b[0m     \u001b[1;32mif\u001b[0m \u001b[0mcontext\u001b[0m\u001b[1;33m.\u001b[0m\u001b[0mexecuting_eagerly\u001b[0m\u001b[1;33m(\u001b[0m\u001b[1;33m)\u001b[0m \u001b[1;32mor\u001b[0m \u001b[0mops\u001b[0m\u001b[1;33m.\u001b[0m\u001b[0minside_function\u001b[0m\u001b[1;33m(\u001b[0m\u001b[1;33m)\u001b[0m\u001b[1;33m:\u001b[0m\u001b[1;33m\u001b[0m\u001b[1;33m\u001b[0m\u001b[0m\n\u001b[0;32m    485\u001b[0m       \u001b[1;32mwith\u001b[0m \u001b[0mops\u001b[0m\u001b[1;33m.\u001b[0m\u001b[0mcolocate_with\u001b[0m\u001b[1;33m(\u001b[0m\u001b[0mself\u001b[0m\u001b[1;33m.\u001b[0m\u001b[0m_variant_tensor\u001b[0m\u001b[1;33m)\u001b[0m\u001b[1;33m:\u001b[0m\u001b[1;33m\u001b[0m\u001b[1;33m\u001b[0m\u001b[0m\n\u001b[1;32m--> 486\u001b[1;33m         \u001b[1;32mreturn\u001b[0m \u001b[0miterator_ops\u001b[0m\u001b[1;33m.\u001b[0m\u001b[0mOwnedIterator\u001b[0m\u001b[1;33m(\u001b[0m\u001b[0mself\u001b[0m\u001b[1;33m)\u001b[0m\u001b[1;33m\u001b[0m\u001b[1;33m\u001b[0m\u001b[0m\n\u001b[0m\u001b[0;32m    487\u001b[0m     \u001b[1;32melse\u001b[0m\u001b[1;33m:\u001b[0m\u001b[1;33m\u001b[0m\u001b[1;33m\u001b[0m\u001b[0m\n\u001b[0;32m    488\u001b[0m       raise RuntimeError(\"`tf.data.Dataset` only supports Python-style \"\n",
      "\u001b[1;32m~\\.conda\\envs\\envi\\lib\\site-packages\\tensorflow\\python\\data\\ops\\iterator_ops.py\u001b[0m in \u001b[0;36m__init__\u001b[1;34m(self, dataset, components, element_spec)\u001b[0m\n\u001b[0;32m    753\u001b[0m             \u001b[1;34m\"When `dataset` is provided, `element_spec` and `components` must \"\u001b[0m\u001b[1;33m\u001b[0m\u001b[1;33m\u001b[0m\u001b[0m\n\u001b[0;32m    754\u001b[0m             \"not be specified.\")\n\u001b[1;32m--> 755\u001b[1;33m       \u001b[0mself\u001b[0m\u001b[1;33m.\u001b[0m\u001b[0m_create_iterator\u001b[0m\u001b[1;33m(\u001b[0m\u001b[0mdataset\u001b[0m\u001b[1;33m)\u001b[0m\u001b[1;33m\u001b[0m\u001b[1;33m\u001b[0m\u001b[0m\n\u001b[0m\u001b[0;32m    756\u001b[0m \u001b[1;33m\u001b[0m\u001b[0m\n\u001b[0;32m    757\u001b[0m     \u001b[0mself\u001b[0m\u001b[1;33m.\u001b[0m\u001b[0m_get_next_call_count\u001b[0m \u001b[1;33m=\u001b[0m \u001b[1;36m0\u001b[0m\u001b[1;33m\u001b[0m\u001b[1;33m\u001b[0m\u001b[0m\n",
      "\u001b[1;32m~\\.conda\\envs\\envi\\lib\\site-packages\\tensorflow\\python\\data\\ops\\iterator_ops.py\u001b[0m in \u001b[0;36m_create_iterator\u001b[1;34m(self, dataset)\u001b[0m\n\u001b[0;32m    785\u001b[0m                 \u001b[0moutput_types\u001b[0m\u001b[1;33m=\u001b[0m\u001b[0mself\u001b[0m\u001b[1;33m.\u001b[0m\u001b[0m_flat_output_types\u001b[0m\u001b[1;33m,\u001b[0m\u001b[1;33m\u001b[0m\u001b[1;33m\u001b[0m\u001b[0m\n\u001b[0;32m    786\u001b[0m                 output_shapes=self._flat_output_shapes))\n\u001b[1;32m--> 787\u001b[1;33m         \u001b[0mgen_dataset_ops\u001b[0m\u001b[1;33m.\u001b[0m\u001b[0mmake_iterator\u001b[0m\u001b[1;33m(\u001b[0m\u001b[0mds_variant\u001b[0m\u001b[1;33m,\u001b[0m \u001b[0mself\u001b[0m\u001b[1;33m.\u001b[0m\u001b[0m_iterator_resource\u001b[0m\u001b[1;33m)\u001b[0m\u001b[1;33m\u001b[0m\u001b[1;33m\u001b[0m\u001b[0m\n\u001b[0m\u001b[0;32m    788\u001b[0m         \u001b[1;31m# Delete the resource when this object is deleted\u001b[0m\u001b[1;33m\u001b[0m\u001b[1;33m\u001b[0m\u001b[1;33m\u001b[0m\u001b[0m\n\u001b[0;32m    789\u001b[0m         self._resource_deleter = IteratorResourceDeleter(\n",
      "\u001b[1;32m~\\.conda\\envs\\envi\\lib\\site-packages\\tensorflow\\python\\ops\\gen_dataset_ops.py\u001b[0m in \u001b[0;36mmake_iterator\u001b[1;34m(dataset, iterator, name)\u001b[0m\n\u001b[0;32m   3313\u001b[0m     \u001b[1;32mtry\u001b[0m\u001b[1;33m:\u001b[0m\u001b[1;33m\u001b[0m\u001b[1;33m\u001b[0m\u001b[0m\n\u001b[0;32m   3314\u001b[0m       _result = pywrap_tfe.TFE_Py_FastPathExecute(\n\u001b[1;32m-> 3315\u001b[1;33m         _ctx, \"MakeIterator\", name, dataset, iterator)\n\u001b[0m\u001b[0;32m   3316\u001b[0m       \u001b[1;32mreturn\u001b[0m \u001b[0m_result\u001b[0m\u001b[1;33m\u001b[0m\u001b[1;33m\u001b[0m\u001b[0m\n\u001b[0;32m   3317\u001b[0m     \u001b[1;32mexcept\u001b[0m \u001b[0m_core\u001b[0m\u001b[1;33m.\u001b[0m\u001b[0m_NotOkStatusException\u001b[0m \u001b[1;32mas\u001b[0m \u001b[0me\u001b[0m\u001b[1;33m:\u001b[0m\u001b[1;33m\u001b[0m\u001b[1;33m\u001b[0m\u001b[0m\n",
      "\u001b[1;31mKeyboardInterrupt\u001b[0m: "
     ]
    }
   ],
   "source": [
    "class CustomSaver(keras.callbacks.Callback):\n",
    "    def on_epoch_end(self, epoch, logs={}):\n",
    "        if epoch % 10 == 0 & epoch > 0:  # or save after some epoch, each k-th epoch etc.\n",
    "            self.model.save(os.path.join(models_folder, \"model_{}.hd5\".format(epoch)))\n",
    "# create and use callback:\n",
    "saver = CustomSaver()\n",
    "\n",
    "epochs = 150\n",
    "history = model.fit(\n",
    "    train_gen, callbacks=[saver], epochs=epochs, verbose=1, validation_data=test_gen, shuffle=True,\n",
    ")"
   ]
  },
  {
   "cell_type": "code",
   "execution_count": null,
   "metadata": {
    "colab": {
     "base_uri": "https://localhost:8080/",
     "height": 585
    },
    "id": "-6TF6ideNQrE",
    "outputId": "2585f972-2fe0-4793-bed5-b66fd2eab32b"
   },
   "outputs": [
    {
     "data": {
      "image/png": "[encoded data removed]",
      "text/plain": [
       "<Figure size 504x576 with 2 Axes>"
      ]
     },
     "metadata": {
      "needs_background": "light"
     },
     "output_type": "display_data"
    }
   ],
   "source": [
    "sg.utils.plot_history(history)"
   ]
  },
  {
   "cell_type": "markdown",
   "metadata": {
    "id": "jYiAVVb2BnZ3"
   },
   "source": [
    "## Testing"
   ]
  },
  {
   "cell_type": "code",
   "execution_count": null,
   "metadata": {
    "colab": {
     "base_uri": "https://localhost:8080/"
    },
    "id": "gAogToc6-7Pt",
    "outputId": "67ba6fac-ebca-47ae-a561-a3f4d1689204"
   },
   "outputs": [
    {
     "name": "stdout",
     "output_type": "stream",
     "text": [
      "{3, 4, 6, 9, 10, 11, 12, 13, 14, 15, 16, 17, 18, 19, 22, 24, 28}\n",
      "{0, 3, 4, 5, 6, 9, 10, 11, 12, 13, 14, 15, 16, 17, 18, 19, 22, 23, 24, 25, 26, 28}\n"
     ]
    }
   ],
   "source": [
    "# use the model to predict on testing data and get predicted labels\n",
    "classes = [int(i) for i in range(29)]\n",
    "# classes.append(5)\n",
    "# classes.sort()\n",
    "pred_prob = model.predict(test_gen)\n",
    "pred_labels = np.argmax(pred_prob, axis=-1) \n",
    "# pred_labels = [classes.index(x) for x in list(pred_labels)]\n",
    "print(set(pred_labels))\n",
    "\n",
    "# get the true labels of the testing data\n",
    "test_labels = np.argmax(test_graph_labels.values, axis=-1)\n",
    "# test_labels = [str(x+1) for x in list(test_labels)]\n",
    "# test_labels = [classes.index(x) for x in list(test_labels)]\n",
    "print(set(test_labels))\n",
    "conf = np.zeros((len(classes),len(classes)))#confusion_matrix(test_labels,pred_labels,labels=classes )\n",
    "for i in range(len(pred_labels)):\n",
    "    pred = pred_labels[i]\n",
    "    true = test_labels[i]\n",
    "    conf[true][pred] += 1\n",
    "    \n",
    "\n",
    "# l = np.ndarray.tolist(conf)\n",
    "\n",
    "# t = []\n",
    "\n",
    "# for i in l[:4] +l[-1:]+ l[4:-1]:\n",
    "#     l = i[:-1]\n",
    "#     l:list\n",
    "#     l.insert(4,0)\n",
    "#     t.append(l)\n",
    "\n",
    "\n",
    "\n",
    "df = pd.DataFrame(conf)\n",
    "df.to_csv(\"results_boa.csv\")\n",
    "# show the result as classification report\n",
    "# print(classification_report(test_labels, pred_labels, target_names=list(set(test_labels+pred_labels)), digits=4))"
   ]
  },
  {
   "cell_type": "code",
   "execution_count": 32,
   "metadata": {},
   "outputs": [],
   "source": [
    "applabels = {1:'dropbox',2:'facebook',3:'google',4:'microsoft',5:'teamviewer',6:'twitter',7:'youtube',8:'other'}\n",
    "browserslabels = {1:'chrome',2:'firefox',3:'IExplorer',4:'Safari'}\n",
    "osesslabels = {1:'Linux',2:'Windows',3:'OSX'}\n",
    "def classify(subclass,id):\n",
    "    if subclass == \"apps\":\n",
    "        return applabels.get(id)\n",
    "    elif subclass == 'browsers':\n",
    "        return browserslabels.get(id)\n",
    "    elif subclass == 'osess':\n",
    "        return osesslabels.get(id)\n",
    "    elif subclass == 'boa':\n",
    "        t = str(id)\n",
    "        return f\"{classify('apps',int(t[1]))}_{classify('browsers',int(t[2]))}_{classify('osess',int(t[4]))}\"\n",
    "    else:\n",
    "        raise ValueError(\"non existent subclass gievn\")"
   ]
  },
  {
   "cell_type": "code",
   "execution_count": 44,
   "metadata": {},
   "outputs": [
    {
     "name": "stdout",
     "output_type": "stream",
     "text": [
      "dropbox_chrome_Windows 1 5\n",
      "facebook_chrome_Linux 0 2\n",
      "facebook_firefox_Linux 0 2\n",
      "google_chrome_Linux 5 22\n",
      "google_chrome_Windows 14 71\n",
      "google_chrome_OSX 1 5\n",
      "google_firefox_Linux 4 17\n",
      "google_firefox_Windows 0 2\n",
      "google_IExplorer_Windows 0 0\n",
      "google_Safari_OSX 30 149\n",
      "microsoft_chrome_Windows 7 34\n",
      "microsoft_firefox_Windows 4 20\n",
      "microsoft_IExplorer_Windows 3 16\n",
      "twitter_chrome_Linux 5 22\n",
      "twitter_chrome_Windows 14 71\n",
      "twitter_chrome_OSX 1 6\n",
      "twitter_firefox_Linux 4 21\n",
      "twitter_firefox_Windows 6 27\n",
      "twitter_IExplorer_Windows 4 19\n",
      "twitter_Safari_OSX 4 21\n",
      "youtube_chrome_Linux 0 2\n",
      "youtube_firefox_Linux 0 2\n",
      "youtube_Safari_OSX 28 140\n",
      "other_chrome_Linux 1 3\n",
      "other_chrome_Windows 2 8\n",
      "other_firefox_Linux 1 7\n",
      "other_firefox_Windows 1 4\n",
      "other_IExplorer_Windows 0 2\n",
      "other_Safari_OSX 26 129\n"
     ]
    }
   ],
   "source": [
    "for i in test_graph_labels:\n",
    "    print(classify('boa',i),len(test_graph_labels[test_graph_labels[i]==1]),len(labels[labels[i]==1]))"
   ]
  },
  {
   "cell_type": "markdown",
   "metadata": {
    "id": "CLjP43YH-uOY"
   },
   "source": [
    "-------------------------------------------------------------"
   ]
  },
  {
   "cell_type": "code",
   "execution_count": 59,
   "metadata": {},
   "outputs": [
    {
     "name": "stdout",
     "output_type": "stream",
     "text": [
      "percision Linux 0.8095238095238095 21.0\n",
      "recall Linux 0.85 20.0\n",
      "F1 Linux 0.8292682926829269\n",
      "\n",
      "percision Windows 0.84375 64.0\n",
      "recall Windows 0.9642857142857143 56.0\n",
      "F1 Windows 0.8999999999999999\n",
      "\n",
      "percision OSX 0.9753086419753086 81.0\n",
      "recall OSX 0.8777777777777778 90.0\n",
      "F1 OSX 0.9239766081871346\n",
      "\n"
     ]
    }
   ],
   "source": [
    "import pandas\n",
    "import numpy as np\n",
    "classes = labels.columns\n",
    "df = pandas.read_csv(\"./results_os.csv\")\n",
    "mat = df.to_numpy()\n",
    "s = 0\n",
    "for i in range(mat.shape[0]):\n",
    "    s1 = 0\n",
    "    for j in range(mat.shape[0]):\n",
    "        s1 += mat[j][i+1]\n",
    "    v1 = mat[i][i+1]\n",
    "    try:\n",
    "        acc = v1/s1\n",
    "        recall = v1/sum(mat[i][1:])\n",
    "        f1  =(2*acc*recall)/(acc+recall)\n",
    "        print('percision',classify('osess',classes[i]),v1/s1,s1)\n",
    "        print('recall',classify('osess',classes[i]),v1/sum(mat[i][1:]),sum(mat[i][1:]))\n",
    "        print('F1',classify('osess',classes[i]),f1)\n",
    "        print()\n",
    "    except:\n",
    "        print(i)\n",
    "    # s += v1/s1\n",
    "# s/8\n"
   ]
  }
 ],
 "metadata": {
  "accelerator": "GPU",
  "colab": {
   "collapsed_sections": [],
   "name": "train_GNN.ipynb",
   "provenance": []
  },
  "kernelspec": {
   "display_name": "Python 3 (ipykernel)",
   "language": "python",
   "name": "python3"
  },
  "language_info": {
   "codemirror_mode": {
    "name": "ipython",
    "version": 3
   },
   "file_extension": ".py",
   "mimetype": "text/x-python",
   "name": "python",
   "nbconvert_exporter": "python",
   "pygments_lexer": "ipython3",
   "version": "3.7.13"
  }
 },
 "nbformat": 4,
 "nbformat_minor": 1
}
