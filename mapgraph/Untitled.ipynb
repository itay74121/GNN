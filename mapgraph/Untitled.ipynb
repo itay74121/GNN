{
 "cells": [
  {
   "cell_type": "code",
   "execution_count": 2,
   "id": "07831be4",
   "metadata": {},
   "outputs": [
    {
     "name": "stdout",
     "output_type": "stream",
     "text": [
      "Collecting stellargraph==1.2.1\n",
      "  Using cached stellargraph-1.2.1-py3-none-any.whl (435 kB)\n",
      "Requirement already satisfied: pandas>=0.24 in c:\\users\\itay\\appdata\\roaming\\python\\python38\\site-packages (from stellargraph==1.2.1) (1.2.3)\n",
      "Requirement already satisfied: scipy>=1.1.0 in c:\\users\\itay\\appdata\\roaming\\python\\python38\\site-packages (from stellargraph==1.2.1) (1.6.0)\n",
      "Note: you may need to restart the kernel to use updated packages.\n"
     ]
    },
    {
     "name": "stderr",
     "output_type": "stream",
     "text": [
      "ERROR: Could not find a version that satisfies the requirement tensorflow>=2.1.0 (from stellargraph) (from versions: none)\n",
      "ERROR: No matching distribution found for tensorflow>=2.1.0\n",
      "WARNING: You are using pip version 22.0.3; however, version 22.0.4 is available.\n",
      "You should consider upgrading via the 'c:\\users\\itay\\appdata\\local\\programs\\python\\python38-32\\python.exe -m pip install --upgrade pip' command.\n"
     ]
    }
   ],
   "source": [
    "%pip install --user stellargraph==1.2.1\n"
   ]
  },
  {
   "cell_type": "code",
   "execution_count": 3,
   "id": "610420ef",
   "metadata": {},
   "outputs": [
    {
     "ename": "ModuleNotFoundError",
     "evalue": "No module named 'stellargraph'",
     "output_type": "error",
     "traceback": [
      "\u001b[1;31m---------------------------------------------------------------------------\u001b[0m",
      "\u001b[1;31mModuleNotFoundError\u001b[0m                       Traceback (most recent call last)",
      "\u001b[1;32m~\\AppData\\Local\\Temp/ipykernel_2428/3682471576.py\u001b[0m in \u001b[0;36m<module>\u001b[1;34m\u001b[0m\n\u001b[1;32m----> 1\u001b[1;33m \u001b[1;32mimport\u001b[0m \u001b[0mstellargraph\u001b[0m\u001b[1;33m\u001b[0m\u001b[1;33m\u001b[0m\u001b[0m\n\u001b[0m",
      "\u001b[1;31mModuleNotFoundError\u001b[0m: No module named 'stellargraph'"
     ]
    }
   ],
   "source": [
    "import stellargraph  "
   ]
  },
  {
   "cell_type": "code",
   "execution_count": null,
   "id": "116283a6",
   "metadata": {},
   "outputs": [],
   "source": []
  }
 ],
 "metadata": {
  "kernelspec": {
   "display_name": "Python 3",
   "language": "python",
   "name": "python3"
  },
  "language_info": {
   "codemirror_mode": {
    "name": "ipython",
    "version": 3
   },
   "file_extension": ".py",
   "mimetype": "text/x-python",
   "name": "python",
   "nbconvert_exporter": "python",
   "pygments_lexer": "ipython3",
   "version": "3.8.5"
  }
 },
 "nbformat": 4,
 "nbformat_minor": 5
}
